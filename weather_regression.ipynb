{
  "nbformat": 4,
  "nbformat_minor": 0,
  "metadata": {
    "colab": {
      "provenance": [],
      "mount_file_id": "1Jh5TAZi4tZpdvZPeldlOsWVDGyaWlLzj",
      "authorship_tag": "ABX9TyOrPlQw4xuyb33NH9s+W64v",
      "include_colab_link": true
    },
    "kernelspec": {
      "name": "python3",
      "display_name": "Python 3"
    },
    "language_info": {
      "name": "python"
    }
  },
  "cells": [
    {
      "cell_type": "markdown",
      "metadata": {
        "id": "view-in-github",
        "colab_type": "text"
      },
      "source": [
        "<a href=\"https://colab.research.google.com/github/shunnyK/AI/blob/main/weather_regression.ipynb\" target=\"_parent\"><img src=\"https://colab.research.google.com/assets/colab-badge.svg\" alt=\"Open In Colab\"/></a>"
      ]
    },
    {
      "cell_type": "code",
      "execution_count": 3,
      "metadata": {
        "colab": {
          "base_uri": "https://localhost:8080/"
        },
        "id": "m_dyDHYMg03F",
        "outputId": "d3636e1a-4432-47a8-a2a1-be38f296ea23"
      },
      "outputs": [
        {
          "output_type": "stream",
          "name": "stdout",
          "text": [
            "=== Test Performance ===\n",
            "Decision Tree  | RMSE: 3.9054 | R²: -0.6321\n",
            "Random Forest  | RMSE: 2.9650 | R²: 0.0593\n",
            "Linear Reg.    | RMSE: 2.9807 | R²: 0.0493\n",
            "KNN            | RMSE: 3.1437 | R²: -0.0576\n"
          ]
        }
      ],
      "source": [
        "import pandas as pd\n",
        "from sklearn.model_selection import train_test_split\n",
        "from sklearn.preprocessing import StandardScaler\n",
        "from sklearn.tree import DecisionTreeRegressor\n",
        "from sklearn.ensemble import RandomForestRegressor\n",
        "from sklearn.linear_model import LinearRegression\n",
        "from sklearn.neighbors import KNeighborsRegressor\n",
        "from sklearn.metrics import mean_squared_error, r2_score\n",
        "from sklearn.pipeline import Pipeline\n",
        "import numpy as np\n",
        "\n",
        "# -----------------------------\n",
        "# 1) 데이터 불러오기 & 전처리\n",
        "# -----------------------------\n",
        "df = pd.read_csv(\"/content/drive/MyDrive/weather.csv\")\n",
        "\n",
        "# RainTomorrow 제거\n",
        "if \"RainTomorrow\" in df.columns:\n",
        "    df = df.drop(columns=[\"RainTomorrow\"])\n",
        "\n",
        "# 결측치 제거\n",
        "df = df.dropna()\n",
        "\n",
        "# 라벨(y): 강수량(mm), 입력(X): 나머지\n",
        "y = df[\"RISK_MM\"]\n",
        "X = df.drop(columns=[\"RISK_MM\"])\n",
        "\n",
        "X = pd.get_dummies(X)\n",
        "\n",
        "X_train, X_test, y_train, y_test = train_test_split(\n",
        "    X, y, test_size=0.2, random_state=42\n",
        ")\n",
        "\n",
        "# -----------------------------\n",
        "# 2) 모델 구성 4개\n",
        "# -----------------------------\n",
        "models = {\n",
        "    \"Decision Tree\": DecisionTreeRegressor(random_state=42),\n",
        "    \"Random Forest\": RandomForestRegressor(n_estimators=200, random_state=42),\n",
        "    \"Linear Reg.\": Pipeline([\n",
        "        (\"scaler\", StandardScaler()),\n",
        "        (\"reg\", LinearRegression())\n",
        "    ]),\n",
        "    \"KNN\": Pipeline([\n",
        "        (\"scaler\", StandardScaler()),\n",
        "        (\"reg\", KNeighborsRegressor(n_neighbors=5))\n",
        "    ])\n",
        "}\n",
        "\n",
        "# -----------------------------\n",
        "# 3) 학습 & 평가\n",
        "# -----------------------------\n",
        "print(\"=== Test Performance ===\")\n",
        "for name, model in models.items():\n",
        "    model.fit(X_train, y_train)\n",
        "    preds = model.predict(X_test)\n",
        "\n",
        "    rmse = np.sqrt(mean_squared_error(y_test, preds))  # 오차 크기\n",
        "    r2 = r2_score(y_test, preds)\n",
        "\n",
        "    print(f\"{name:14s} | RMSE: {rmse:.4f} | R²: {r2:.4f}\")"
      ]
    }
  ]
}
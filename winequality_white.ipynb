{
  "nbformat": 4,
  "nbformat_minor": 0,
  "metadata": {
    "colab": {
      "provenance": [],
      "mount_file_id": "1ZmCt_IMLSesdKuCAMlYT_D1YlejDCps6",
      "authorship_tag": "ABX9TyPuSkZJmEYKZRXq4GBcoxUx",
      "include_colab_link": true
    },
    "kernelspec": {
      "name": "python3",
      "display_name": "Python 3"
    },
    "language_info": {
      "name": "python"
    }
  },
  "cells": [
    {
      "cell_type": "markdown",
      "metadata": {
        "id": "view-in-github",
        "colab_type": "text"
      },
      "source": [
        "<a href=\"https://colab.research.google.com/github/shunnyK/AI/blob/main/winequality_white.ipynb\" target=\"_parent\"><img src=\"https://colab.research.google.com/assets/colab-badge.svg\" alt=\"Open In Colab\"/></a>"
      ]
    },
    {
      "cell_type": "code",
      "execution_count": 2,
      "metadata": {
        "id": "8qGwvAQgXSmc",
        "colab": {
          "base_uri": "https://localhost:8080/"
        },
        "outputId": "d9635b92-02c5-44fb-a396-18f865497906"
      },
      "outputs": [
        {
          "output_type": "stream",
          "name": "stdout",
          "text": [
            "KNN: 0.5276\n",
            "Decision Tree: 0.5929\n",
            "Random Forest: 0.6776\n",
            "Logistic Regression: 0.5490\n",
            "\n",
            "[Logistic Regression] Weight & Bias\n",
            "fixed acidity: 0.5557\n",
            "volatile acidity: 0.4595\n",
            "citric acid: -0.2089\n",
            "residual sugar: -0.3834\n",
            "chlorides: 0.1812\n",
            "free sulfur dioxide: 0.5319\n",
            "total sulfur dioxide: 0.0343\n",
            "density: 0.4711\n",
            "pH: 0.0747\n",
            "sulphates: -0.3736\n",
            "alcohol: -0.1530\n",
            "Bias: -2.2851\n"
          ]
        }
      ],
      "source": [
        "import pandas as pd\n",
        "from sklearn.model_selection import train_test_split\n",
        "from sklearn.preprocessing import LabelEncoder, StandardScaler\n",
        "from sklearn.neighbors import KNeighborsClassifier\n",
        "from sklearn.tree import DecisionTreeClassifier\n",
        "from sklearn.ensemble import RandomForestClassifier\n",
        "from sklearn.linear_model import LogisticRegression\n",
        "from sklearn.metrics import accuracy_score\n",
        "\n",
        "# 1) 데이터 불러오기 (3행부터 시작 → skiprows=1, header=None)\n",
        "# Ensure the file path is correct and the file exists at this location.\n",
        "path = \"/content/drive/MyDrive/winequality-white.csv\"\n",
        "cols = ['fixed acidity','volatile acidity','citric acid','residual sugar',\n",
        "        'chlorides','free sulfur dioxide','total sulfur dioxide',\n",
        "        'density','pH','sulphates','alcohol','quality']\n",
        "df = pd.read_csv(path, sep=';', skiprows=1, header=None, names=cols)\n",
        "\n",
        "# 라벨 인코딩 (quality 3~9 → 0~6)\n",
        "le = LabelEncoder()\n",
        "df['quality'] = le.fit_transform(df['quality'])\n",
        "\n",
        "# 입력(X), 출력(y) 분리\n",
        "X = df.drop('quality', axis=1)\n",
        "y = df['quality']\n",
        "\n",
        "# 2) 스케일링\n",
        "scaler = StandardScaler()\n",
        "X_scaled = scaler.fit_transform(X)\n",
        "\n",
        "# 3) 데이터 분할\n",
        "X_train, X_test, y_train, y_test = train_test_split(\n",
        "    X_scaled, y, test_size=0.2, random_state=42, stratify=y\n",
        ")\n",
        "\n",
        "# 4) 모델 학습\n",
        "models = {\n",
        "    'KNN': KNeighborsClassifier(),\n",
        "    'Decision Tree': DecisionTreeClassifier(random_state=42),\n",
        "    'Random Forest': RandomForestClassifier(random_state=42),\n",
        "    'Logistic Regression': LogisticRegression(max_iter=2000, random_state=42)\n",
        "}\n",
        "\n",
        "for name, model in models.items():\n",
        "    model.fit(X_train, y_train)\n",
        "    y_pred = model.predict(X_test)\n",
        "    print(f\"{name}: {accuracy_score(y_test, y_pred):.4f}\")\n",
        "\n",
        "# 5) Logistic Regression Weight & Bias\n",
        "lr = models['Logistic Regression']\n",
        "print(\"\\n[Logistic Regression] Weight & Bias\")\n",
        "for i, f in enumerate(X.columns):\n",
        "    print(f\"{f}: {lr.coef_[0][i]:.4f}\")\n",
        "print(f\"Bias: {lr.intercept_[0]:.4f}\")"
      ]
    }
  ]
}
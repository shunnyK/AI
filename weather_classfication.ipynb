{
  "nbformat": 4,
  "nbformat_minor": 0,
  "metadata": {
    "colab": {
      "provenance": [],
      "authorship_tag": "ABX9TyOKY8lr7s1Y3Hx0cHw8D3KE",
      "include_colab_link": true
    },
    "kernelspec": {
      "name": "python3",
      "display_name": "Python 3"
    },
    "language_info": {
      "name": "python"
    }
  },
  "cells": [
    {
      "cell_type": "markdown",
      "metadata": {
        "id": "view-in-github",
        "colab_type": "text"
      },
      "source": [
        "<a href=\"https://colab.research.google.com/github/shunnyK/AI/blob/main/weather_classfication.ipynb\" target=\"_parent\"><img src=\"https://colab.research.google.com/assets/colab-badge.svg\" alt=\"Open In Colab\"/></a>"
      ]
    },
    {
      "cell_type": "code",
      "execution_count": null,
      "metadata": {
        "id": "wEUMqg2PjEnX"
      },
      "outputs": [],
      "source": [
        "import pandas as pd\n",
        "from sklearn.model_selection import train_test_split\n",
        "from sklearn.preprocessing import StandardScaler\n",
        "from sklearn.tree import DecisionTreeClassifier\n",
        "from sklearn.neighbors import KNeighborsClassifier\n",
        "from sklearn.metrics import accuracy_score, classification_report, confusion_matrix\n",
        "from sklearn.pipeline import Pipeline\n",
        "import numpy as np\n",
        "\n",
        "# -----------------------------\n",
        "# 1) 데이터 준비\n",
        "# -----------------------------\n",
        "# Colab 드라이브 경로 예시\n",
        "path = \"/content/drive/MyDrive/weather.csv\"\n",
        "# 우리 세션 업로드 경로였다면: path = \"/mnt/data/weather.csv\"\n",
        "\n",
        "df = pd.read_csv(path)\n",
        "\n",
        "# (1) 라벨 결정\n",
        "if \"RainTomorrow\" in df.columns:\n",
        "    # Yes/No → 1/0 (대소문자 섞여도 처리)\n",
        "    y = df[\"RainTomorrow\"].astype(str).str.strip().str.lower().map({\"yes\": 1, \"no\": 0})\n",
        "    # 혹시 다른 문자열이 있으면 결측으로 간주 후 제거\n",
        "    keep_idx = y.isin([0, 1])\n",
        "    df = df.loc[keep_idx].copy()\n",
        "    y = y.loc[keep_idx].astype(int)\n",
        "    # X에서 누수 방지: RainTomorrow, RISK_MM 제거\n",
        "    drop_cols = [c for c in [\"RainTomorrow\", \"RISK_MM\"] if c in df.columns]\n",
        "    X = df.drop(columns=drop_cols)\n",
        "else:\n",
        "    # RainTomorrow가 없으면 RISK_MM > 0을 이진 라벨로 생성\n",
        "    if \"RISK_MM\" not in df.columns:\n",
        "        raise ValueError(\"라벨을 만들 수 없습니다: 'RainTomorrow'도 없고 'RISK_MM'도 없습니다.\")\n",
        "    y = (df[\"RISK_MM\"] > 0).astype(int)\n",
        "    X = df.drop(columns=[\"RISK_MM\"])\n",
        "\n",
        "# (2) 결측치 간단 제거\n",
        "data = pd.concat([X, y.rename(\"target\")], axis=1).dropna()\n",
        "X = data.drop(columns=[\"target\"])\n",
        "y = data[\"target\"]\n",
        "\n",
        "# (3) 범주형 → 원-핫 인코딩\n",
        "X = pd.get_dummies(X)\n",
        "\n",
        "# (4) 학습/테스트 분리 (층화 분할)\n",
        "X_train, X_test, y_train, y_test = train_test_split(\n",
        "    X, y, test_size=0.2, stratify=y, random_state=42\n",
        ")\n",
        "\n",
        "# -----------------------------\n",
        "# 2) 모델 구성\n",
        "# -----------------------------\n",
        "dt = DecisionTreeClassifier(random_state=42)\n",
        "\n",
        "knn = Pipeline([\n",
        "    (\"scaler\", StandardScaler(with_mean=False) if hasattr(X_train, \"sparse\") and X_train.sparse else StandardScaler()),\n",
        "    (\"clf\", KNeighborsClassifier(n_neighbors=5, weights=\"distance\"))\n",
        "])\n",
        "\n",
        "# -----------------------------\n",
        "# 3) 모델 학습\n",
        "# -----------------------------\n",
        "dt.fit(X_train, y_train)\n",
        "knn.fit(X_train, y_train)\n",
        "\n",
        "# -----------------------------\n",
        "# 4) 모델 평가\n",
        "# -----------------------------\n",
        "models = {\"Decision Tree\": dt, \"KNN\": knn}\n",
        "\n",
        "print(\"=== Test Accuracy ===\")\n",
        "best_name, best_acc = None, -1\n",
        "for name, model in models.items():\n",
        "    pred = model.predict(X_test)\n",
        "    acc = accuracy_score(y_test, pred)\n",
        "    print(f\"{name:13s}: {acc:.4f}\")\n",
        "    if acc > best_acc:\n",
        "        best_name, best_acc, best_pred = name, acc, pred\n",
        "\n",
        "print(f\"\\n=== Best Model: {best_name} (accuracy={best_acc:.4f}) ===\")\n",
        "print(\"\\nClassification report\")\n",
        "print(classification_report(y_test, best_pred, target_names=[\"NoRain\",\"Rain\"]))\n",
        "\n",
        "print(\"Confusion matrix (rows=true, cols=pred):\")\n",
        "print(confusion_matrix(y_test, best_pred))"
      ]
    }
  ]
}